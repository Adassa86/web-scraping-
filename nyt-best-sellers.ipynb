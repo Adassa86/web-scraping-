import requests
from bs4 import BeautifulSoup
import datetime

# Define the base URL for NYT Best Sellers
base_url = "https://www.nytimes.com/books/best-sellers/"
# Get the current date and time
current_date = datetime.datetime.now()
# Initialize a dictionary to store the collected data
best_sellers_data = {}

# Loop through the last 104 weeks
for i in range(104):
    # Calculate the date for the current week
    target_date = current_date - datetime.timedelta(weeks=i)
    # Format the date to match the NYT URL structure (YYYY/MM/DD)
    formatted_date = target_date.strftime("%Y/%m/%d")
    # Construct the URL for the best sellers page for the current week
    url = f"{base_url}{formatted_date}/"
    # Send an HTTP GET request to the URL
    response = requests.get(url)
    # Check if the request was successful
    if response.status_code == 200:
        # Parse the HTML content of the page
        soup = BeautifulSoup(response.content, "html.parser")
        # Find the category name and books for the current week

        shelf = soup.find("div", itemtype="http://schema.org/ItemList")
        sections = shelf.find_all("section")
        week_data = []

        for section in sections:
            category = section.find("h2").text
            books = section.find_all("li", itemtype="https://schema.org/Book")
            category_books = []
            for book in books:
                title = book.find("h3", itemprop="name").text
                author = book.find("p", itemprop="author").text
                description = book.find("p", itemprop="description").text
                image_url = book.find("img", itemprop="image")["src"]

                category_books.append({
                    "Title": title,
                    "Author": author,
                    "Description": description,
                    "Image_URL": image_url
                })
            week_data.append({
                "Category": category,
                "Books": category_books})

        best_sellers_data[formatted_date] = week_data

# Print the collected data
for week, data in best_sellers_data.items():
    print(f"Week: {week}")
    for category_data in data:
        print(f"Category: {category_data['Category']}")
        for position, book in enumerate(category_data['Books'], start=1):
            print(f"Position: {position}")
            print(f"Title: {book['Title']}")
            print(f"Description: {book['Description']}")
            print(f"Image URL: {book['Image_URL']}")
            print("\n")
